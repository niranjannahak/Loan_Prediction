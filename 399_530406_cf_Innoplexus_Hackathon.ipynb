{
 "cells": [
  {
   "cell_type": "code",
   "execution_count": 50,
   "metadata": {},
   "outputs": [
    {
     "data": {
      "text/html": [
       "<div>\n",
       "<style scoped>\n",
       "    .dataframe tbody tr th:only-of-type {\n",
       "        vertical-align: middle;\n",
       "    }\n",
       "\n",
       "    .dataframe tbody tr th {\n",
       "        vertical-align: top;\n",
       "    }\n",
       "\n",
       "    .dataframe thead th {\n",
       "        text-align: right;\n",
       "    }\n",
       "</style>\n",
       "<table border=\"1\" class=\"dataframe\">\n",
       "  <thead>\n",
       "    <tr style=\"text-align: right;\">\n",
       "      <th></th>\n",
       "      <th>Webpage_id</th>\n",
       "      <th>Domain</th>\n",
       "      <th>Url</th>\n",
       "      <th>Tag</th>\n",
       "      <th>Vector</th>\n",
       "    </tr>\n",
       "  </thead>\n",
       "  <tbody>\n",
       "    <tr>\n",
       "      <th>0</th>\n",
       "      <td>1</td>\n",
       "      <td>www.fiercepharma.com</td>\n",
       "      <td>http://www.fiercepharma.com/marketing/tecfider...</td>\n",
       "      <td>news</td>\n",
       "      <td>marketing tecfidera gilenya and aubagio s 3 wa...</td>\n",
       "    </tr>\n",
       "    <tr>\n",
       "      <th>1</th>\n",
       "      <td>2</td>\n",
       "      <td>www.fiercepharma.com</td>\n",
       "      <td>http://www.fiercepharma.com/pharma/novo-equipp...</td>\n",
       "      <td>news</td>\n",
       "      <td>pharma novo equipped to weather storm u s diab...</td>\n",
       "    </tr>\n",
       "    <tr>\n",
       "      <th>2</th>\n",
       "      <td>3</td>\n",
       "      <td>www.fiercepharma.com</td>\n",
       "      <td>http://www.fiercepharma.com/pharma/another-exe...</td>\n",
       "      <td>news</td>\n",
       "      <td>pharma another exec departs troubled endo and ...</td>\n",
       "    </tr>\n",
       "    <tr>\n",
       "      <th>3</th>\n",
       "      <td>4</td>\n",
       "      <td>www.fiercepharma.com</td>\n",
       "      <td>http://www.fiercepharma.com/pharma/teva-buy-bi...</td>\n",
       "      <td>news</td>\n",
       "      <td>pharma teva buy biosim specialist celltrion it...</td>\n",
       "    </tr>\n",
       "    <tr>\n",
       "      <th>4</th>\n",
       "      <td>5</td>\n",
       "      <td>www.fiercepharma.com</td>\n",
       "      <td>http://www.fiercepharma.com/marketing/actress-...</td>\n",
       "      <td>news</td>\n",
       "      <td>marketing actress marissa tomei partners aller...</td>\n",
       "    </tr>\n",
       "  </tbody>\n",
       "</table>\n",
       "</div>"
      ],
      "text/plain": [
       "   Webpage_id                Domain  \\\n",
       "0           1  www.fiercepharma.com   \n",
       "1           2  www.fiercepharma.com   \n",
       "2           3  www.fiercepharma.com   \n",
       "3           4  www.fiercepharma.com   \n",
       "4           5  www.fiercepharma.com   \n",
       "\n",
       "                                                 Url   Tag  \\\n",
       "0  http://www.fiercepharma.com/marketing/tecfider...  news   \n",
       "1  http://www.fiercepharma.com/pharma/novo-equipp...  news   \n",
       "2  http://www.fiercepharma.com/pharma/another-exe...  news   \n",
       "3  http://www.fiercepharma.com/pharma/teva-buy-bi...  news   \n",
       "4  http://www.fiercepharma.com/marketing/actress-...  news   \n",
       "\n",
       "                                              Vector  \n",
       "0  marketing tecfidera gilenya and aubagio s 3 wa...  \n",
       "1  pharma novo equipped to weather storm u s diab...  \n",
       "2  pharma another exec departs troubled endo and ...  \n",
       "3  pharma teva buy biosim specialist celltrion it...  \n",
       "4  marketing actress marissa tomei partners aller...  "
      ]
     },
     "execution_count": 50,
     "metadata": {},
     "output_type": "execute_result"
    }
   ],
   "source": [
    "import sqlite3\n",
    "import pandas as pd\n",
    "import numpy as np\n",
    "import nltk\n",
    "import string\n",
    "import matplotlib.pyplot as plt\n",
    "import seaborn as sns\n",
    "from sklearn.feature_extraction.text import TfidfTransformer\n",
    "from sklearn.feature_extraction.text import TfidfVectorizer\n",
    "\n",
    "from sklearn.feature_extraction.text import CountVectorizer\n",
    "from sklearn.metrics import confusion_matrix\n",
    "from sklearn import metrics\n",
    "from sklearn.metrics import roc_curve, auc\n",
    "from nltk.stem.porter import PorterStemmer\n",
    "df=pd.read_csv('train1.csv')\n",
    "df.head()"
   ]
  },
  {
   "cell_type": "code",
   "execution_count": 51,
   "metadata": {},
   "outputs": [
    {
     "data": {
      "text/plain": [
       "(53447, 5)"
      ]
     },
     "execution_count": 51,
     "metadata": {},
     "output_type": "execute_result"
    }
   ],
   "source": [
    "df.shape"
   ]
  },
  {
   "cell_type": "code",
   "execution_count": 52,
   "metadata": {},
   "outputs": [],
   "source": [
    "from sklearn.utils import shuffle\n",
    "final=shuffle(df)"
   ]
  },
  {
   "cell_type": "code",
   "execution_count": 60,
   "metadata": {},
   "outputs": [],
   "source": [
    "final.fillna('a', inplace=True)"
   ]
  },
  {
   "cell_type": "code",
   "execution_count": 61,
   "metadata": {},
   "outputs": [],
   "source": [
    "def filter_num(s):\n",
    "    s = s.split()\n",
    "    s = list(filter(str.isalpha, s))\n",
    "    return ' '.join(s)"
   ]
  },
  {
   "cell_type": "code",
   "execution_count": 63,
   "metadata": {},
   "outputs": [],
   "source": [
    "final.Vector = final.Vector.map(filter_num)"
   ]
  },
  {
   "cell_type": "code",
   "execution_count": 64,
   "metadata": {},
   "outputs": [
    {
     "data": {
      "text/html": [
       "<div>\n",
       "<style scoped>\n",
       "    .dataframe tbody tr th:only-of-type {\n",
       "        vertical-align: middle;\n",
       "    }\n",
       "\n",
       "    .dataframe tbody tr th {\n",
       "        vertical-align: top;\n",
       "    }\n",
       "\n",
       "    .dataframe thead th {\n",
       "        text-align: right;\n",
       "    }\n",
       "</style>\n",
       "<table border=\"1\" class=\"dataframe\">\n",
       "  <thead>\n",
       "    <tr style=\"text-align: right;\">\n",
       "      <th></th>\n",
       "      <th>Webpage_id</th>\n",
       "      <th>Domain</th>\n",
       "      <th>Url</th>\n",
       "      <th>Tag</th>\n",
       "      <th>Vector</th>\n",
       "    </tr>\n",
       "  </thead>\n",
       "  <tbody>\n",
       "    <tr>\n",
       "      <th>31959</th>\n",
       "      <td>47703</td>\n",
       "      <td>forums.thebump.com</td>\n",
       "      <td>https://forums.thebump.com/discussion/12460811...</td>\n",
       "      <td>forum</td>\n",
       "      <td>discussion newbie intro</td>\n",
       "    </tr>\n",
       "    <tr>\n",
       "      <th>53225</th>\n",
       "      <td>79014</td>\n",
       "      <td>medicine.uiowa.edu</td>\n",
       "      <td>https://medicine.uiowa.edu/anesthesia/profile/...</td>\n",
       "      <td>profile</td>\n",
       "      <td>anesthesia profile jonathan simmons</td>\n",
       "    </tr>\n",
       "    <tr>\n",
       "      <th>42602</th>\n",
       "      <td>63972</td>\n",
       "      <td>career.bayer.com</td>\n",
       "      <td>https://career.bayer.com/en/career/working-at-...</td>\n",
       "      <td>others</td>\n",
       "      <td>en career working at bayer graduates internati...</td>\n",
       "    </tr>\n",
       "    <tr>\n",
       "      <th>13168</th>\n",
       "      <td>19659</td>\n",
       "      <td>jla.sagepub.com</td>\n",
       "      <td>http://journals.sagepub.com/doi/full/10.1177/2...</td>\n",
       "      <td>publication</td>\n",
       "      <td>doi full</td>\n",
       "    </tr>\n",
       "    <tr>\n",
       "      <th>22106</th>\n",
       "      <td>33409</td>\n",
       "      <td>news.mit.edu</td>\n",
       "      <td>http://news.mit.edu/department/brain-and-cogni...</td>\n",
       "      <td>others</td>\n",
       "      <td>department brain and cognitive sciences</td>\n",
       "    </tr>\n",
       "  </tbody>\n",
       "</table>\n",
       "</div>"
      ],
      "text/plain": [
       "       Webpage_id              Domain  \\\n",
       "31959       47703  forums.thebump.com   \n",
       "53225       79014  medicine.uiowa.edu   \n",
       "42602       63972    career.bayer.com   \n",
       "13168       19659     jla.sagepub.com   \n",
       "22106       33409        news.mit.edu   \n",
       "\n",
       "                                                     Url          Tag  \\\n",
       "31959  https://forums.thebump.com/discussion/12460811...        forum   \n",
       "53225  https://medicine.uiowa.edu/anesthesia/profile/...      profile   \n",
       "42602  https://career.bayer.com/en/career/working-at-...       others   \n",
       "13168  http://journals.sagepub.com/doi/full/10.1177/2...  publication   \n",
       "22106  http://news.mit.edu/department/brain-and-cogni...       others   \n",
       "\n",
       "                                                  Vector  \n",
       "31959                            discussion newbie intro  \n",
       "53225                anesthesia profile jonathan simmons  \n",
       "42602  en career working at bayer graduates internati...  \n",
       "13168                                           doi full  \n",
       "22106            department brain and cognitive sciences  "
      ]
     },
     "execution_count": 64,
     "metadata": {},
     "output_type": "execute_result"
    }
   ],
   "source": [
    "final.head()"
   ]
  },
  {
   "cell_type": "code",
   "execution_count": null,
   "metadata": {},
   "outputs": [],
   "source": []
  },
  {
   "cell_type": "code",
   "execution_count": 54,
   "metadata": {},
   "outputs": [
    {
     "name": "stdout",
     "output_type": "stream",
     "text": [
      "[nltk_data] Downloading package stopwords to\n",
      "[nltk_data]     C:\\Users\\Bhargava\\AppData\\Roaming\\nltk_data...\n",
      "[nltk_data]   Package stopwords is already up-to-date!\n",
      "{\"won't\", 'mustn', 'i', 'was', 'so', \"needn't\", 'hers', \"she's\", 'me', 'had', 'aren', \"isn't\", 'once', 'more', \"don't\", 'between', 'at', 'hasn', 'no', 'he', \"shan't\", 'while', 'off', 'other', 't', 'y', 'until', \"doesn't\", \"weren't\", 'our', 'above', 'few', 'where', 'most', 'yourselves', 'in', 'both', 'ma', 'be', 'do', 'whom', 'during', 'down', 'didn', 'such', 'further', 'each', 'by', 'any', 're', 'couldn', 'have', 'weren', 'their', 'myself', \"you're\", 'hadn', 'about', 'been', 'themselves', 'has', 'but', 'how', 'nor', 'too', 'all', 'doesn', 'ours', 'through', 'a', 'what', \"didn't\", 'own', 'them', 'we', 'and', 'into', 'from', 'mightn', 'now', 'ain', 'does', 'for', 'an', \"mustn't\", 'll', 'did', 's', 'here', 'shouldn', 've', 'if', 'over', 'there', 'him', 'same', \"shouldn't\", 'itself', \"mightn't\", 'wouldn', \"you'll\", 'that', 'her', 'because', 'this', 'which', 'up', 'some', 'to', 'won', 'needn', 'before', 'as', 'out', 'wasn', 'o', 'your', 'yourself', 'the', \"wasn't\", 'who', 'on', 'should', 'don', 'shan', 'you', 'm', 'she', 'were', \"should've\", 'having', 'under', 'these', 'again', 'then', 'himself', \"couldn't\", 'or', 'very', 'are', 'it', 'can', 'his', \"it's\", 'its', 'against', 'being', 'haven', \"hasn't\", \"that'll\", 'am', 'is', 'yours', 'of', 'not', 'd', 'herself', 'isn', 'doing', 'they', \"wouldn't\", \"you'd\", 'when', 'after', 'theirs', 'just', 'why', 'only', 'will', 'those', 'below', 'than', \"aren't\", \"hadn't\", 'ourselves', \"you've\", 'with', 'my', \"haven't\"}\n",
      "************************************\n",
      "tasti\n"
     ]
    }
   ],
   "source": [
    "import re\n",
    "# Tutorial about Python regular expressions: https://pymotw.com/2/re/\n",
    "import string\n",
    "from nltk.corpus import stopwords\n",
    "import nltk\n",
    "nltk.download('stopwords')\n",
    "from nltk.stem import PorterStemmer\n",
    "from nltk.stem.wordnet import WordNetLemmatizer\n",
    "\n",
    "stop = set(stopwords.words('english')) #set of stopwords\n",
    "sno = nltk.stem.SnowballStemmer('english') #initialising the snowball stemmer\n",
    "\n",
    "def cleanhtml(sentence): #function to clean the word of any html-tags\n",
    "    cleanr = re.compile('<.*?>')\n",
    "    cleantext = re.sub(cleanr, ' ', sentence)\n",
    "    return cleantext\n",
    "def cleanpunc(sentence): #function to clean the word of any punctuation or special characters\n",
    "    cleaned = re.sub(r'[?|!|\\'|\"|#]',r'',sentence)\n",
    "    cleaned = re.sub(r'[.|,|)|(|\\|/]',r' ',cleaned)\n",
    "    return  cleaned\n",
    "print(stop)\n",
    "print('************************************')\n",
    "print(sno.stem('tasty'))"
   ]
  },
  {
   "cell_type": "code",
   "execution_count": 65,
   "metadata": {},
   "outputs": [],
   "source": [
    "i=0\n",
    "str1=' '\n",
    "final_string=[]\n",
    "#all_positive_words=[] # store words from +ve reviews here\n",
    "#all_negative_words=[] # store words from -ve reviews here.\n",
    "s=''\n",
    "for sent in final['Vector'].values:\n",
    "    filtered_sentence=[]\n",
    "    #print(sent);\n",
    "     # remove HTMl tags\n",
    "    sent=cleanhtml(sent)\n",
    "    for w in sent.split():\n",
    "        for cleaned_words in cleanpunc(w).split():\n",
    "            if((cleaned_words.isalpha()) & (len(cleaned_words)>2)):    \n",
    "                if(cleaned_words.lower() not in stop):\n",
    "                    s=(sno.stem(cleaned_words.lower())).encode('utf8')\n",
    "                    filtered_sentence.append(s)\n",
    "                    \n",
    "                else:\n",
    "                    continue\n",
    "            else:\n",
    "                continue \n",
    "    #print(filtered_sentence)\n",
    "    str1 = b\" \".join(filtered_sentence) #final string of cleaned words\n",
    "    #print(\"***********************************************************************\")\n",
    "    \n",
    "    final_string.append(str1)\n",
    "    i+=1"
   ]
  },
  {
   "cell_type": "code",
   "execution_count": 66,
   "metadata": {},
   "outputs": [],
   "source": [
    "final['CleanedText']=final_string"
   ]
  },
  {
   "cell_type": "code",
   "execution_count": 67,
   "metadata": {},
   "outputs": [
    {
     "data": {
      "text/html": [
       "<div>\n",
       "<style scoped>\n",
       "    .dataframe tbody tr th:only-of-type {\n",
       "        vertical-align: middle;\n",
       "    }\n",
       "\n",
       "    .dataframe tbody tr th {\n",
       "        vertical-align: top;\n",
       "    }\n",
       "\n",
       "    .dataframe thead th {\n",
       "        text-align: right;\n",
       "    }\n",
       "</style>\n",
       "<table border=\"1\" class=\"dataframe\">\n",
       "  <thead>\n",
       "    <tr style=\"text-align: right;\">\n",
       "      <th></th>\n",
       "      <th>Webpage_id</th>\n",
       "      <th>Domain</th>\n",
       "      <th>Url</th>\n",
       "      <th>Tag</th>\n",
       "      <th>Vector</th>\n",
       "      <th>CleanedText</th>\n",
       "    </tr>\n",
       "  </thead>\n",
       "  <tbody>\n",
       "    <tr>\n",
       "      <th>31959</th>\n",
       "      <td>47703</td>\n",
       "      <td>forums.thebump.com</td>\n",
       "      <td>https://forums.thebump.com/discussion/12460811...</td>\n",
       "      <td>forum</td>\n",
       "      <td>discussion newbie intro</td>\n",
       "      <td>b'discuss newbi intro'</td>\n",
       "    </tr>\n",
       "    <tr>\n",
       "      <th>53225</th>\n",
       "      <td>79014</td>\n",
       "      <td>medicine.uiowa.edu</td>\n",
       "      <td>https://medicine.uiowa.edu/anesthesia/profile/...</td>\n",
       "      <td>profile</td>\n",
       "      <td>anesthesia profile jonathan simmons</td>\n",
       "      <td>b'anesthesia profil jonathan simmon'</td>\n",
       "    </tr>\n",
       "    <tr>\n",
       "      <th>42602</th>\n",
       "      <td>63972</td>\n",
       "      <td>career.bayer.com</td>\n",
       "      <td>https://career.bayer.com/en/career/working-at-...</td>\n",
       "      <td>others</td>\n",
       "      <td>en career working at bayer graduates internati...</td>\n",
       "      <td>b'career work bayer graduat international oper...</td>\n",
       "    </tr>\n",
       "  </tbody>\n",
       "</table>\n",
       "</div>"
      ],
      "text/plain": [
       "       Webpage_id              Domain  \\\n",
       "31959       47703  forums.thebump.com   \n",
       "53225       79014  medicine.uiowa.edu   \n",
       "42602       63972    career.bayer.com   \n",
       "\n",
       "                                                     Url      Tag  \\\n",
       "31959  https://forums.thebump.com/discussion/12460811...    forum   \n",
       "53225  https://medicine.uiowa.edu/anesthesia/profile/...  profile   \n",
       "42602  https://career.bayer.com/en/career/working-at-...   others   \n",
       "\n",
       "                                                  Vector  \\\n",
       "31959                            discussion newbie intro   \n",
       "53225                anesthesia profile jonathan simmons   \n",
       "42602  en career working at bayer graduates internati...   \n",
       "\n",
       "                                             CleanedText  \n",
       "31959                             b'discuss newbi intro'  \n",
       "53225               b'anesthesia profil jonathan simmon'  \n",
       "42602  b'career work bayer graduat international oper...  "
      ]
     },
     "execution_count": 67,
     "metadata": {},
     "output_type": "execute_result"
    }
   ],
   "source": [
    "final.head(3)"
   ]
  },
  {
   "cell_type": "code",
   "execution_count": 68,
   "metadata": {},
   "outputs": [
    {
     "data": {
      "text/plain": [
       "(53447, 6)"
      ]
     },
     "execution_count": 68,
     "metadata": {},
     "output_type": "execute_result"
    }
   ],
   "source": [
    "final.shape"
   ]
  },
  {
   "cell_type": "code",
   "execution_count": 69,
   "metadata": {},
   "outputs": [
    {
     "data": {
      "text/plain": [
       "320682"
      ]
     },
     "execution_count": 69,
     "metadata": {},
     "output_type": "execute_result"
    }
   ],
   "source": [
    "final.size"
   ]
  },
  {
   "cell_type": "code",
   "execution_count": 71,
   "metadata": {},
   "outputs": [],
   "source": [
    "#BoW\n",
    "#without unigrams and bigrams\n",
    "count_vect = CountVectorizer() #in scikit-learn\n",
    "final_counts = count_vect.fit_transform(final['CleanedText'].values)"
   ]
  },
  {
   "cell_type": "code",
   "execution_count": 72,
   "metadata": {},
   "outputs": [
    {
     "data": {
      "text/plain": [
       "scipy.sparse.csr.csr_matrix"
      ]
     },
     "execution_count": 72,
     "metadata": {},
     "output_type": "execute_result"
    }
   ],
   "source": [
    "type(final_counts)"
   ]
  },
  {
   "cell_type": "code",
   "execution_count": 73,
   "metadata": {},
   "outputs": [
    {
     "data": {
      "text/plain": [
       "(53447, 17756)"
      ]
     },
     "execution_count": 73,
     "metadata": {},
     "output_type": "execute_result"
    }
   ],
   "source": [
    "final_counts.get_shape()"
   ]
  },
  {
   "cell_type": "code",
   "execution_count": 74,
   "metadata": {},
   "outputs": [
    {
     "data": {
      "text/plain": [
       "(53447, 6)"
      ]
     },
     "execution_count": 74,
     "metadata": {},
     "output_type": "execute_result"
    }
   ],
   "source": [
    "final.shape"
   ]
  },
  {
   "cell_type": "code",
   "execution_count": 75,
   "metadata": {},
   "outputs": [
    {
     "data": {
      "text/html": [
       "<div>\n",
       "<style scoped>\n",
       "    .dataframe tbody tr th:only-of-type {\n",
       "        vertical-align: middle;\n",
       "    }\n",
       "\n",
       "    .dataframe tbody tr th {\n",
       "        vertical-align: top;\n",
       "    }\n",
       "\n",
       "    .dataframe thead th {\n",
       "        text-align: right;\n",
       "    }\n",
       "</style>\n",
       "<table border=\"1\" class=\"dataframe\">\n",
       "  <thead>\n",
       "    <tr style=\"text-align: right;\">\n",
       "      <th></th>\n",
       "      <th>Webpage_id</th>\n",
       "      <th>Domain</th>\n",
       "      <th>Url</th>\n",
       "      <th>Tag</th>\n",
       "      <th>Vector</th>\n",
       "      <th>CleanedText</th>\n",
       "    </tr>\n",
       "  </thead>\n",
       "  <tbody>\n",
       "    <tr>\n",
       "      <th>31959</th>\n",
       "      <td>47703</td>\n",
       "      <td>forums.thebump.com</td>\n",
       "      <td>https://forums.thebump.com/discussion/12460811...</td>\n",
       "      <td>forum</td>\n",
       "      <td>discussion newbie intro</td>\n",
       "      <td>b'discuss newbi intro'</td>\n",
       "    </tr>\n",
       "    <tr>\n",
       "      <th>53225</th>\n",
       "      <td>79014</td>\n",
       "      <td>medicine.uiowa.edu</td>\n",
       "      <td>https://medicine.uiowa.edu/anesthesia/profile/...</td>\n",
       "      <td>profile</td>\n",
       "      <td>anesthesia profile jonathan simmons</td>\n",
       "      <td>b'anesthesia profil jonathan simmon'</td>\n",
       "    </tr>\n",
       "    <tr>\n",
       "      <th>42602</th>\n",
       "      <td>63972</td>\n",
       "      <td>career.bayer.com</td>\n",
       "      <td>https://career.bayer.com/en/career/working-at-...</td>\n",
       "      <td>others</td>\n",
       "      <td>en career working at bayer graduates internati...</td>\n",
       "      <td>b'career work bayer graduat international oper...</td>\n",
       "    </tr>\n",
       "    <tr>\n",
       "      <th>13168</th>\n",
       "      <td>19659</td>\n",
       "      <td>jla.sagepub.com</td>\n",
       "      <td>http://journals.sagepub.com/doi/full/10.1177/2...</td>\n",
       "      <td>publication</td>\n",
       "      <td>doi full</td>\n",
       "      <td>b'doi full'</td>\n",
       "    </tr>\n",
       "    <tr>\n",
       "      <th>22106</th>\n",
       "      <td>33409</td>\n",
       "      <td>news.mit.edu</td>\n",
       "      <td>http://news.mit.edu/department/brain-and-cogni...</td>\n",
       "      <td>others</td>\n",
       "      <td>department brain and cognitive sciences</td>\n",
       "      <td>b'depart brain cognit scienc'</td>\n",
       "    </tr>\n",
       "  </tbody>\n",
       "</table>\n",
       "</div>"
      ],
      "text/plain": [
       "       Webpage_id              Domain  \\\n",
       "31959       47703  forums.thebump.com   \n",
       "53225       79014  medicine.uiowa.edu   \n",
       "42602       63972    career.bayer.com   \n",
       "13168       19659     jla.sagepub.com   \n",
       "22106       33409        news.mit.edu   \n",
       "\n",
       "                                                     Url          Tag  \\\n",
       "31959  https://forums.thebump.com/discussion/12460811...        forum   \n",
       "53225  https://medicine.uiowa.edu/anesthesia/profile/...      profile   \n",
       "42602  https://career.bayer.com/en/career/working-at-...       others   \n",
       "13168  http://journals.sagepub.com/doi/full/10.1177/2...  publication   \n",
       "22106  http://news.mit.edu/department/brain-and-cogni...       others   \n",
       "\n",
       "                                                  Vector  \\\n",
       "31959                            discussion newbie intro   \n",
       "53225                anesthesia profile jonathan simmons   \n",
       "42602  en career working at bayer graduates internati...   \n",
       "13168                                           doi full   \n",
       "22106            department brain and cognitive sciences   \n",
       "\n",
       "                                             CleanedText  \n",
       "31959                             b'discuss newbi intro'  \n",
       "53225               b'anesthesia profil jonathan simmon'  \n",
       "42602  b'career work bayer graduat international oper...  \n",
       "13168                                        b'doi full'  \n",
       "22106                      b'depart brain cognit scienc'  "
      ]
     },
     "execution_count": 75,
     "metadata": {},
     "output_type": "execute_result"
    }
   ],
   "source": [
    "final.head()"
   ]
  },
  {
   "cell_type": "code",
   "execution_count": 76,
   "metadata": {},
   "outputs": [],
   "source": [
    "#adding a column named WordCount which tells us the number of legitimate words in the review text\n",
    "final['WordCount']= final['CleanedText'].values\n",
    "final['WordCount'] = final['WordCount'].apply(lambda i: len(i.split()))"
   ]
  },
  {
   "cell_type": "code",
   "execution_count": 77,
   "metadata": {},
   "outputs": [
    {
     "data": {
      "text/html": [
       "<div>\n",
       "<style scoped>\n",
       "    .dataframe tbody tr th:only-of-type {\n",
       "        vertical-align: middle;\n",
       "    }\n",
       "\n",
       "    .dataframe tbody tr th {\n",
       "        vertical-align: top;\n",
       "    }\n",
       "\n",
       "    .dataframe thead th {\n",
       "        text-align: right;\n",
       "    }\n",
       "</style>\n",
       "<table border=\"1\" class=\"dataframe\">\n",
       "  <thead>\n",
       "    <tr style=\"text-align: right;\">\n",
       "      <th></th>\n",
       "      <th>Webpage_id</th>\n",
       "      <th>Domain</th>\n",
       "      <th>Url</th>\n",
       "      <th>Tag</th>\n",
       "      <th>Vector</th>\n",
       "      <th>CleanedText</th>\n",
       "      <th>WordCount</th>\n",
       "    </tr>\n",
       "  </thead>\n",
       "  <tbody>\n",
       "    <tr>\n",
       "      <th>31959</th>\n",
       "      <td>47703</td>\n",
       "      <td>forums.thebump.com</td>\n",
       "      <td>https://forums.thebump.com/discussion/12460811...</td>\n",
       "      <td>forum</td>\n",
       "      <td>discussion newbie intro</td>\n",
       "      <td>b'discuss newbi intro'</td>\n",
       "      <td>3</td>\n",
       "    </tr>\n",
       "    <tr>\n",
       "      <th>53225</th>\n",
       "      <td>79014</td>\n",
       "      <td>medicine.uiowa.edu</td>\n",
       "      <td>https://medicine.uiowa.edu/anesthesia/profile/...</td>\n",
       "      <td>profile</td>\n",
       "      <td>anesthesia profile jonathan simmons</td>\n",
       "      <td>b'anesthesia profil jonathan simmon'</td>\n",
       "      <td>4</td>\n",
       "    </tr>\n",
       "    <tr>\n",
       "      <th>42602</th>\n",
       "      <td>63972</td>\n",
       "      <td>career.bayer.com</td>\n",
       "      <td>https://career.bayer.com/en/career/working-at-...</td>\n",
       "      <td>others</td>\n",
       "      <td>en career working at bayer graduates internati...</td>\n",
       "      <td>b'career work bayer graduat international oper...</td>\n",
       "      <td>10</td>\n",
       "    </tr>\n",
       "    <tr>\n",
       "      <th>13168</th>\n",
       "      <td>19659</td>\n",
       "      <td>jla.sagepub.com</td>\n",
       "      <td>http://journals.sagepub.com/doi/full/10.1177/2...</td>\n",
       "      <td>publication</td>\n",
       "      <td>doi full</td>\n",
       "      <td>b'doi full'</td>\n",
       "      <td>2</td>\n",
       "    </tr>\n",
       "    <tr>\n",
       "      <th>22106</th>\n",
       "      <td>33409</td>\n",
       "      <td>news.mit.edu</td>\n",
       "      <td>http://news.mit.edu/department/brain-and-cogni...</td>\n",
       "      <td>others</td>\n",
       "      <td>department brain and cognitive sciences</td>\n",
       "      <td>b'depart brain cognit scienc'</td>\n",
       "      <td>4</td>\n",
       "    </tr>\n",
       "  </tbody>\n",
       "</table>\n",
       "</div>"
      ],
      "text/plain": [
       "       Webpage_id              Domain  \\\n",
       "31959       47703  forums.thebump.com   \n",
       "53225       79014  medicine.uiowa.edu   \n",
       "42602       63972    career.bayer.com   \n",
       "13168       19659     jla.sagepub.com   \n",
       "22106       33409        news.mit.edu   \n",
       "\n",
       "                                                     Url          Tag  \\\n",
       "31959  https://forums.thebump.com/discussion/12460811...        forum   \n",
       "53225  https://medicine.uiowa.edu/anesthesia/profile/...      profile   \n",
       "42602  https://career.bayer.com/en/career/working-at-...       others   \n",
       "13168  http://journals.sagepub.com/doi/full/10.1177/2...  publication   \n",
       "22106  http://news.mit.edu/department/brain-and-cogni...       others   \n",
       "\n",
       "                                                  Vector  \\\n",
       "31959                            discussion newbie intro   \n",
       "53225                anesthesia profile jonathan simmons   \n",
       "42602  en career working at bayer graduates internati...   \n",
       "13168                                           doi full   \n",
       "22106            department brain and cognitive sciences   \n",
       "\n",
       "                                             CleanedText  WordCount  \n",
       "31959                             b'discuss newbi intro'          3  \n",
       "53225               b'anesthesia profil jonathan simmon'          4  \n",
       "42602  b'career work bayer graduat international oper...         10  \n",
       "13168                                        b'doi full'          2  \n",
       "22106                      b'depart brain cognit scienc'          4  "
      ]
     },
     "execution_count": 77,
     "metadata": {},
     "output_type": "execute_result"
    }
   ],
   "source": [
    "final.head()"
   ]
  },
  {
   "cell_type": "code",
   "execution_count": 78,
   "metadata": {},
   "outputs": [
    {
     "data": {
      "text/plain": [
       "<53447x17756 sparse matrix of type '<class 'numpy.int64'>'\n",
       "\twith 188308 stored elements in Compressed Sparse Row format>"
      ]
     },
     "execution_count": 78,
     "metadata": {},
     "output_type": "execute_result"
    }
   ],
   "source": [
    "final_counts"
   ]
  },
  {
   "cell_type": "code",
   "execution_count": 79,
   "metadata": {},
   "outputs": [],
   "source": [
    "y=final['Tag'].values"
   ]
  },
  {
   "cell_type": "code",
   "execution_count": 80,
   "metadata": {},
   "outputs": [
    {
     "data": {
      "text/plain": [
       "(53447,)"
      ]
     },
     "execution_count": 80,
     "metadata": {},
     "output_type": "execute_result"
    }
   ],
   "source": [
    "y.shape"
   ]
  },
  {
   "cell_type": "code",
   "execution_count": 82,
   "metadata": {},
   "outputs": [],
   "source": [
    "dff=pd.read_csv('test1.csv')"
   ]
  },
  {
   "cell_type": "code",
   "execution_count": 83,
   "metadata": {},
   "outputs": [
    {
     "data": {
      "text/html": [
       "<div>\n",
       "<style scoped>\n",
       "    .dataframe tbody tr th:only-of-type {\n",
       "        vertical-align: middle;\n",
       "    }\n",
       "\n",
       "    .dataframe tbody tr th {\n",
       "        vertical-align: top;\n",
       "    }\n",
       "\n",
       "    .dataframe thead th {\n",
       "        text-align: right;\n",
       "    }\n",
       "</style>\n",
       "<table border=\"1\" class=\"dataframe\">\n",
       "  <thead>\n",
       "    <tr style=\"text-align: right;\">\n",
       "      <th></th>\n",
       "      <th>Webpage_id</th>\n",
       "      <th>Domain</th>\n",
       "      <th>Url</th>\n",
       "      <th>Vector</th>\n",
       "      <th>Length</th>\n",
       "      <th>Alpha</th>\n",
       "      <th>Num</th>\n",
       "      <th>Alnum</th>\n",
       "    </tr>\n",
       "  </thead>\n",
       "  <tbody>\n",
       "    <tr>\n",
       "      <th>0</th>\n",
       "      <td>31</td>\n",
       "      <td>isrctn.com</td>\n",
       "      <td>http://www.isrctn.com/ISRCTN57801413</td>\n",
       "      <td>isrctn57801413</td>\n",
       "      <td>14</td>\n",
       "      <td>0</td>\n",
       "      <td>0</td>\n",
       "      <td>1</td>\n",
       "    </tr>\n",
       "    <tr>\n",
       "      <th>1</th>\n",
       "      <td>32</td>\n",
       "      <td>www.clinicaltrialsregister.eu</td>\n",
       "      <td>https://www.clinicaltrialsregister.eu/ctr-sear...</td>\n",
       "      <td>ctr search trial 2006 006214 16 gb</td>\n",
       "      <td>34</td>\n",
       "      <td>4</td>\n",
       "      <td>3</td>\n",
       "      <td>0</td>\n",
       "    </tr>\n",
       "    <tr>\n",
       "      <th>2</th>\n",
       "      <td>33</td>\n",
       "      <td>www.clinicaltrialsregister.eu</td>\n",
       "      <td>https://www.clinicaltrialsregister.eu/ctr-sear...</td>\n",
       "      <td>ctr search trial 2006 004265 34 lt</td>\n",
       "      <td>34</td>\n",
       "      <td>4</td>\n",
       "      <td>3</td>\n",
       "      <td>0</td>\n",
       "    </tr>\n",
       "    <tr>\n",
       "      <th>3</th>\n",
       "      <td>34</td>\n",
       "      <td>www.clinicaltrialsregister.eu</td>\n",
       "      <td>https://www.clinicaltrialsregister.eu/ctr-sear...</td>\n",
       "      <td>ctr search trial 2010 022183 12 it</td>\n",
       "      <td>34</td>\n",
       "      <td>4</td>\n",
       "      <td>3</td>\n",
       "      <td>0</td>\n",
       "    </tr>\n",
       "    <tr>\n",
       "      <th>4</th>\n",
       "      <td>35</td>\n",
       "      <td>www.clinicaltrialsregister.eu</td>\n",
       "      <td>https://www.clinicaltrialsregister.eu/ctr-sear...</td>\n",
       "      <td>ctr search trial 2010 021349 36 nl</td>\n",
       "      <td>34</td>\n",
       "      <td>4</td>\n",
       "      <td>3</td>\n",
       "      <td>0</td>\n",
       "    </tr>\n",
       "  </tbody>\n",
       "</table>\n",
       "</div>"
      ],
      "text/plain": [
       "   Webpage_id                         Domain  \\\n",
       "0          31                     isrctn.com   \n",
       "1          32  www.clinicaltrialsregister.eu   \n",
       "2          33  www.clinicaltrialsregister.eu   \n",
       "3          34  www.clinicaltrialsregister.eu   \n",
       "4          35  www.clinicaltrialsregister.eu   \n",
       "\n",
       "                                                 Url  \\\n",
       "0               http://www.isrctn.com/ISRCTN57801413   \n",
       "1  https://www.clinicaltrialsregister.eu/ctr-sear...   \n",
       "2  https://www.clinicaltrialsregister.eu/ctr-sear...   \n",
       "3  https://www.clinicaltrialsregister.eu/ctr-sear...   \n",
       "4  https://www.clinicaltrialsregister.eu/ctr-sear...   \n",
       "\n",
       "                               Vector  Length  Alpha  Num  Alnum  \n",
       "0                      isrctn57801413      14      0    0      1  \n",
       "1  ctr search trial 2006 006214 16 gb      34      4    3      0  \n",
       "2  ctr search trial 2006 004265 34 lt      34      4    3      0  \n",
       "3  ctr search trial 2010 022183 12 it      34      4    3      0  \n",
       "4  ctr search trial 2010 021349 36 nl      34      4    3      0  "
      ]
     },
     "execution_count": 83,
     "metadata": {},
     "output_type": "execute_result"
    }
   ],
   "source": [
    "dff.head()"
   ]
  },
  {
   "cell_type": "code",
   "execution_count": 84,
   "metadata": {},
   "outputs": [],
   "source": [
    "from sklearn.utils import shuffle\n",
    "final_test=shuffle(dff)"
   ]
  },
  {
   "cell_type": "code",
   "execution_count": 85,
   "metadata": {},
   "outputs": [
    {
     "data": {
      "text/html": [
       "<div>\n",
       "<style scoped>\n",
       "    .dataframe tbody tr th:only-of-type {\n",
       "        vertical-align: middle;\n",
       "    }\n",
       "\n",
       "    .dataframe tbody tr th {\n",
       "        vertical-align: top;\n",
       "    }\n",
       "\n",
       "    .dataframe thead th {\n",
       "        text-align: right;\n",
       "    }\n",
       "</style>\n",
       "<table border=\"1\" class=\"dataframe\">\n",
       "  <thead>\n",
       "    <tr style=\"text-align: right;\">\n",
       "      <th></th>\n",
       "      <th>Webpage_id</th>\n",
       "      <th>Domain</th>\n",
       "      <th>Url</th>\n",
       "      <th>Vector</th>\n",
       "      <th>Length</th>\n",
       "      <th>Alpha</th>\n",
       "      <th>Num</th>\n",
       "      <th>Alnum</th>\n",
       "    </tr>\n",
       "  </thead>\n",
       "  <tbody>\n",
       "    <tr>\n",
       "      <th>23602</th>\n",
       "      <td>73426</td>\n",
       "      <td>heb.sagepub.com</td>\n",
       "      <td>http://journals.sagepub.com/doi/full/10.1177/1...</td>\n",
       "      <td>doi full 10 1177 1090198110382502</td>\n",
       "      <td>33</td>\n",
       "      <td>2</td>\n",
       "      <td>3</td>\n",
       "      <td>0</td>\n",
       "    </tr>\n",
       "    <tr>\n",
       "      <th>16292</th>\n",
       "      <td>48676</td>\n",
       "      <td>unpregnantchicken.com</td>\n",
       "      <td>http://unpregnantchicken.com/2016/02/micro-pos...</td>\n",
       "      <td>2016 02 micro post breastfeeding</td>\n",
       "      <td>32</td>\n",
       "      <td>3</td>\n",
       "      <td>2</td>\n",
       "      <td>0</td>\n",
       "    </tr>\n",
       "    <tr>\n",
       "      <th>18000</th>\n",
       "      <td>54352</td>\n",
       "      <td>www.kjronline.org</td>\n",
       "      <td>https://www.kjronline.org/index.php?body=archive</td>\n",
       "      <td>index php</td>\n",
       "      <td>9</td>\n",
       "      <td>2</td>\n",
       "      <td>0</td>\n",
       "      <td>0</td>\n",
       "    </tr>\n",
       "    <tr>\n",
       "      <th>15980</th>\n",
       "      <td>48240</td>\n",
       "      <td>patient.info</td>\n",
       "      <td>https://patient.info/forums/discuss/early-preg...</td>\n",
       "      <td>forums discuss early pregnancy symptoms or end...</td>\n",
       "      <td>63</td>\n",
       "      <td>7</td>\n",
       "      <td>1</td>\n",
       "      <td>0</td>\n",
       "    </tr>\n",
       "    <tr>\n",
       "      <th>13072</th>\n",
       "      <td>38767</td>\n",
       "      <td>biology.mit.edu</td>\n",
       "      <td>https://biology.mit.edu/people/alan_grossman</td>\n",
       "      <td>people alan_grossman</td>\n",
       "      <td>20</td>\n",
       "      <td>1</td>\n",
       "      <td>0</td>\n",
       "      <td>0</td>\n",
       "    </tr>\n",
       "  </tbody>\n",
       "</table>\n",
       "</div>"
      ],
      "text/plain": [
       "       Webpage_id                 Domain  \\\n",
       "23602       73426        heb.sagepub.com   \n",
       "16292       48676  unpregnantchicken.com   \n",
       "18000       54352      www.kjronline.org   \n",
       "15980       48240           patient.info   \n",
       "13072       38767        biology.mit.edu   \n",
       "\n",
       "                                                     Url  \\\n",
       "23602  http://journals.sagepub.com/doi/full/10.1177/1...   \n",
       "16292  http://unpregnantchicken.com/2016/02/micro-pos...   \n",
       "18000   https://www.kjronline.org/index.php?body=archive   \n",
       "15980  https://patient.info/forums/discuss/early-preg...   \n",
       "13072       https://biology.mit.edu/people/alan_grossman   \n",
       "\n",
       "                                                  Vector  Length  Alpha  Num  \\\n",
       "23602                  doi full 10 1177 1090198110382502      33      2    3   \n",
       "16292                   2016 02 micro post breastfeeding      32      3    2   \n",
       "18000                                          index php       9      2    0   \n",
       "15980  forums discuss early pregnancy symptoms or end...      63      7    1   \n",
       "13072                               people alan_grossman      20      1    0   \n",
       "\n",
       "       Alnum  \n",
       "23602      0  \n",
       "16292      0  \n",
       "18000      0  \n",
       "15980      0  \n",
       "13072      0  "
      ]
     },
     "execution_count": 85,
     "metadata": {},
     "output_type": "execute_result"
    }
   ],
   "source": [
    "final_test.head()"
   ]
  },
  {
   "cell_type": "code",
   "execution_count": 87,
   "metadata": {},
   "outputs": [],
   "source": [
    "final_test.fillna('a', inplace=True)"
   ]
  },
  {
   "cell_type": "code",
   "execution_count": 88,
   "metadata": {},
   "outputs": [],
   "source": [
    "def filter_num(s):\n",
    "    s = s.split()\n",
    "    s = list(filter(str.isalpha, s))\n",
    "    return ' '.join(s)"
   ]
  },
  {
   "cell_type": "code",
   "execution_count": 89,
   "metadata": {},
   "outputs": [],
   "source": [
    "final_test.Vector = final_test.Vector.map(filter_num)"
   ]
  },
  {
   "cell_type": "code",
   "execution_count": 90,
   "metadata": {},
   "outputs": [
    {
     "data": {
      "text/html": [
       "<div>\n",
       "<style scoped>\n",
       "    .dataframe tbody tr th:only-of-type {\n",
       "        vertical-align: middle;\n",
       "    }\n",
       "\n",
       "    .dataframe tbody tr th {\n",
       "        vertical-align: top;\n",
       "    }\n",
       "\n",
       "    .dataframe thead th {\n",
       "        text-align: right;\n",
       "    }\n",
       "</style>\n",
       "<table border=\"1\" class=\"dataframe\">\n",
       "  <thead>\n",
       "    <tr style=\"text-align: right;\">\n",
       "      <th></th>\n",
       "      <th>Webpage_id</th>\n",
       "      <th>Domain</th>\n",
       "      <th>Url</th>\n",
       "      <th>Vector</th>\n",
       "      <th>Length</th>\n",
       "      <th>Alpha</th>\n",
       "      <th>Num</th>\n",
       "      <th>Alnum</th>\n",
       "    </tr>\n",
       "  </thead>\n",
       "  <tbody>\n",
       "    <tr>\n",
       "      <th>23602</th>\n",
       "      <td>73426</td>\n",
       "      <td>heb.sagepub.com</td>\n",
       "      <td>http://journals.sagepub.com/doi/full/10.1177/1...</td>\n",
       "      <td>doi full</td>\n",
       "      <td>33</td>\n",
       "      <td>2</td>\n",
       "      <td>3</td>\n",
       "      <td>0</td>\n",
       "    </tr>\n",
       "    <tr>\n",
       "      <th>16292</th>\n",
       "      <td>48676</td>\n",
       "      <td>unpregnantchicken.com</td>\n",
       "      <td>http://unpregnantchicken.com/2016/02/micro-pos...</td>\n",
       "      <td>micro post breastfeeding</td>\n",
       "      <td>32</td>\n",
       "      <td>3</td>\n",
       "      <td>2</td>\n",
       "      <td>0</td>\n",
       "    </tr>\n",
       "    <tr>\n",
       "      <th>18000</th>\n",
       "      <td>54352</td>\n",
       "      <td>www.kjronline.org</td>\n",
       "      <td>https://www.kjronline.org/index.php?body=archive</td>\n",
       "      <td>index php</td>\n",
       "      <td>9</td>\n",
       "      <td>2</td>\n",
       "      <td>0</td>\n",
       "      <td>0</td>\n",
       "    </tr>\n",
       "    <tr>\n",
       "      <th>15980</th>\n",
       "      <td>48240</td>\n",
       "      <td>patient.info</td>\n",
       "      <td>https://patient.info/forums/discuss/early-preg...</td>\n",
       "      <td>forums discuss early pregnancy symptoms or end...</td>\n",
       "      <td>63</td>\n",
       "      <td>7</td>\n",
       "      <td>1</td>\n",
       "      <td>0</td>\n",
       "    </tr>\n",
       "    <tr>\n",
       "      <th>13072</th>\n",
       "      <td>38767</td>\n",
       "      <td>biology.mit.edu</td>\n",
       "      <td>https://biology.mit.edu/people/alan_grossman</td>\n",
       "      <td>people</td>\n",
       "      <td>20</td>\n",
       "      <td>1</td>\n",
       "      <td>0</td>\n",
       "      <td>0</td>\n",
       "    </tr>\n",
       "  </tbody>\n",
       "</table>\n",
       "</div>"
      ],
      "text/plain": [
       "       Webpage_id                 Domain  \\\n",
       "23602       73426        heb.sagepub.com   \n",
       "16292       48676  unpregnantchicken.com   \n",
       "18000       54352      www.kjronline.org   \n",
       "15980       48240           patient.info   \n",
       "13072       38767        biology.mit.edu   \n",
       "\n",
       "                                                     Url  \\\n",
       "23602  http://journals.sagepub.com/doi/full/10.1177/1...   \n",
       "16292  http://unpregnantchicken.com/2016/02/micro-pos...   \n",
       "18000   https://www.kjronline.org/index.php?body=archive   \n",
       "15980  https://patient.info/forums/discuss/early-preg...   \n",
       "13072       https://biology.mit.edu/people/alan_grossman   \n",
       "\n",
       "                                                  Vector  Length  Alpha  Num  \\\n",
       "23602                                           doi full      33      2    3   \n",
       "16292                           micro post breastfeeding      32      3    2   \n",
       "18000                                          index php       9      2    0   \n",
       "15980  forums discuss early pregnancy symptoms or end...      63      7    1   \n",
       "13072                                             people      20      1    0   \n",
       "\n",
       "       Alnum  \n",
       "23602      0  \n",
       "16292      0  \n",
       "18000      0  \n",
       "15980      0  \n",
       "13072      0  "
      ]
     },
     "execution_count": 90,
     "metadata": {},
     "output_type": "execute_result"
    }
   ],
   "source": [
    "final_test.head()"
   ]
  },
  {
   "cell_type": "code",
   "execution_count": 91,
   "metadata": {},
   "outputs": [],
   "source": [
    "i=0\n",
    "str1=' '\n",
    "final_string=[]\n",
    "#all_positive_words=[] # store words from +ve reviews here\n",
    "#all_negative_words=[] # store words from -ve reviews here.\n",
    "s=''\n",
    "for sent in final_test['Vector'].values:\n",
    "    filtered_sentence=[]\n",
    "    #print(sent);\n",
    "     # remove HTMl tags\n",
    "    sent=cleanhtml(sent)\n",
    "    for w in sent.split():\n",
    "        for cleaned_words in cleanpunc(w).split():\n",
    "            if((cleaned_words.isalpha()) & (len(cleaned_words)>2)):    \n",
    "                if(cleaned_words.lower() not in stop):\n",
    "                    s=(sno.stem(cleaned_words.lower())).encode('utf8')\n",
    "                    filtered_sentence.append(s)\n",
    "                    \n",
    "                else:\n",
    "                    continue\n",
    "            else:\n",
    "                continue \n",
    "    #print(filtered_sentence)\n",
    "    str1 = b\" \".join(filtered_sentence) #final string of cleaned words\n",
    "    #print(\"***********************************************************************\")\n",
    "    \n",
    "    final_string.append(str1)\n",
    "    i+=1"
   ]
  },
  {
   "cell_type": "code",
   "execution_count": 92,
   "metadata": {},
   "outputs": [],
   "source": [
    "final_test['CleanedText']=final_string"
   ]
  },
  {
   "cell_type": "markdown",
   "metadata": {},
   "source": [
    "# Creating features:\n",
    "length of the string.\n",
    "number of alpha words in string.\n",
    "number of numeric words in the string.\n",
    "hashed domain name.\n",
    "presence of some words.\n",
    "may be stemming."
   ]
  },
  {
   "cell_type": "code",
   "execution_count": 93,
   "metadata": {},
   "outputs": [
    {
     "data": {
      "text/html": [
       "<div>\n",
       "<style scoped>\n",
       "    .dataframe tbody tr th:only-of-type {\n",
       "        vertical-align: middle;\n",
       "    }\n",
       "\n",
       "    .dataframe tbody tr th {\n",
       "        vertical-align: top;\n",
       "    }\n",
       "\n",
       "    .dataframe thead th {\n",
       "        text-align: right;\n",
       "    }\n",
       "</style>\n",
       "<table border=\"1\" class=\"dataframe\">\n",
       "  <thead>\n",
       "    <tr style=\"text-align: right;\">\n",
       "      <th></th>\n",
       "      <th>Webpage_id</th>\n",
       "      <th>Domain</th>\n",
       "      <th>Url</th>\n",
       "      <th>Vector</th>\n",
       "      <th>Length</th>\n",
       "      <th>Alpha</th>\n",
       "      <th>Num</th>\n",
       "      <th>Alnum</th>\n",
       "      <th>CleanedText</th>\n",
       "    </tr>\n",
       "  </thead>\n",
       "  <tbody>\n",
       "    <tr>\n",
       "      <th>23602</th>\n",
       "      <td>73426</td>\n",
       "      <td>heb.sagepub.com</td>\n",
       "      <td>http://journals.sagepub.com/doi/full/10.1177/1...</td>\n",
       "      <td>doi full</td>\n",
       "      <td>33</td>\n",
       "      <td>2</td>\n",
       "      <td>3</td>\n",
       "      <td>0</td>\n",
       "      <td>b'doi full'</td>\n",
       "    </tr>\n",
       "    <tr>\n",
       "      <th>16292</th>\n",
       "      <td>48676</td>\n",
       "      <td>unpregnantchicken.com</td>\n",
       "      <td>http://unpregnantchicken.com/2016/02/micro-pos...</td>\n",
       "      <td>micro post breastfeeding</td>\n",
       "      <td>32</td>\n",
       "      <td>3</td>\n",
       "      <td>2</td>\n",
       "      <td>0</td>\n",
       "      <td>b'micro post breastfeed'</td>\n",
       "    </tr>\n",
       "    <tr>\n",
       "      <th>18000</th>\n",
       "      <td>54352</td>\n",
       "      <td>www.kjronline.org</td>\n",
       "      <td>https://www.kjronline.org/index.php?body=archive</td>\n",
       "      <td>index php</td>\n",
       "      <td>9</td>\n",
       "      <td>2</td>\n",
       "      <td>0</td>\n",
       "      <td>0</td>\n",
       "      <td>b'index php'</td>\n",
       "    </tr>\n",
       "    <tr>\n",
       "      <th>15980</th>\n",
       "      <td>48240</td>\n",
       "      <td>patient.info</td>\n",
       "      <td>https://patient.info/forums/discuss/early-preg...</td>\n",
       "      <td>forums discuss early pregnancy symptoms or end...</td>\n",
       "      <td>63</td>\n",
       "      <td>7</td>\n",
       "      <td>1</td>\n",
       "      <td>0</td>\n",
       "      <td>b'forum discuss earli pregnanc symptom endomet...</td>\n",
       "    </tr>\n",
       "    <tr>\n",
       "      <th>13072</th>\n",
       "      <td>38767</td>\n",
       "      <td>biology.mit.edu</td>\n",
       "      <td>https://biology.mit.edu/people/alan_grossman</td>\n",
       "      <td>people</td>\n",
       "      <td>20</td>\n",
       "      <td>1</td>\n",
       "      <td>0</td>\n",
       "      <td>0</td>\n",
       "      <td>b'peopl'</td>\n",
       "    </tr>\n",
       "  </tbody>\n",
       "</table>\n",
       "</div>"
      ],
      "text/plain": [
       "       Webpage_id                 Domain  \\\n",
       "23602       73426        heb.sagepub.com   \n",
       "16292       48676  unpregnantchicken.com   \n",
       "18000       54352      www.kjronline.org   \n",
       "15980       48240           patient.info   \n",
       "13072       38767        biology.mit.edu   \n",
       "\n",
       "                                                     Url  \\\n",
       "23602  http://journals.sagepub.com/doi/full/10.1177/1...   \n",
       "16292  http://unpregnantchicken.com/2016/02/micro-pos...   \n",
       "18000   https://www.kjronline.org/index.php?body=archive   \n",
       "15980  https://patient.info/forums/discuss/early-preg...   \n",
       "13072       https://biology.mit.edu/people/alan_grossman   \n",
       "\n",
       "                                                  Vector  Length  Alpha  Num  \\\n",
       "23602                                           doi full      33      2    3   \n",
       "16292                           micro post breastfeeding      32      3    2   \n",
       "18000                                          index php       9      2    0   \n",
       "15980  forums discuss early pregnancy symptoms or end...      63      7    1   \n",
       "13072                                             people      20      1    0   \n",
       "\n",
       "       Alnum                                        CleanedText  \n",
       "23602      0                                        b'doi full'  \n",
       "16292      0                           b'micro post breastfeed'  \n",
       "18000      0                                       b'index php'  \n",
       "15980      0  b'forum discuss earli pregnanc symptom endomet...  \n",
       "13072      0                                           b'peopl'  "
      ]
     },
     "execution_count": 93,
     "metadata": {},
     "output_type": "execute_result"
    }
   ],
   "source": [
    "final_test.head()"
   ]
  },
  {
   "cell_type": "code",
   "execution_count": 94,
   "metadata": {},
   "outputs": [],
   "source": [
    "\n",
    "#Dropped webpage ID as that shouldn't be used as a feature\n",
    "count_vect = CountVectorizer() #in scikit-learn\n",
    "final_countstest = count_vect.fit_transform(final_test['CleanedText'].values)"
   ]
  },
  {
   "cell_type": "code",
   "execution_count": 95,
   "metadata": {},
   "outputs": [
    {
     "data": {
      "text/plain": [
       "(25787, 10351)"
      ]
     },
     "execution_count": 95,
     "metadata": {},
     "output_type": "execute_result"
    }
   ],
   "source": [
    "final_countstest.get_shape()"
   ]
  },
  {
   "cell_type": "code",
   "execution_count": null,
   "metadata": {},
   "outputs": [],
   "source": [
    "#A lot of data cleaning is done till now\n",
    "import pandas as pd\n",
    "ht=pd.read_csv('html_data.csv')"
   ]
  },
  {
   "cell_type": "code",
   "execution_count": null,
   "metadata": {},
   "outputs": [],
   "source": [
    "ht.head()"
   ]
  },
  {
   "cell_type": "code",
   "execution_count": null,
   "metadata": {},
   "outputs": [],
   "source": []
  },
  {
   "cell_type": "code",
   "execution_count": null,
   "metadata": {},
   "outputs": [],
   "source": []
  },
  {
   "cell_type": "code",
   "execution_count": null,
   "metadata": {},
   "outputs": [],
   "source": [
    "import time\n",
    "\n",
    "import numpy as np\n",
    "import pandas as pd\n",
    "import time\n",
    "import matplotlib.pyplot as plt\n",
    "import seaborn as sns\n",
    "\n",
    "from sklearn.preprocessing import LabelEncoder\n",
    "from sklearn.model_selection import train_test_split\n",
    "from sklearn.metrics import f1_score\n",
    "\n",
    "from bs4 import BeautifulSoup\n",
    "import re"
   ]
  },
  {
   "cell_type": "code",
   "execution_count": null,
   "metadata": {},
   "outputs": [],
   "source": [
    "train = pd.read_csv('train1.csv')\n",
    "test = pd.read_csv('test1.csv')"
   ]
  },
  {
   "cell_type": "code",
   "execution_count": null,
   "metadata": {},
   "outputs": [],
   "source": [
    "tree = DecisionTreeClassifier(max_depth=100, criterion='gini')\n",
    "tree.fit(X, y)\n",
    "pred = tree.predict(X_test)"
   ]
  },
  {
   "cell_type": "code",
   "execution_count": null,
   "metadata": {},
   "outputs": [],
   "source": [
    "sample_sub = pd.read_csv('sample_submission.csv')"
   ]
  },
  {
   "cell_type": "code",
   "execution_count": null,
   "metadata": {},
   "outputs": [],
   "source": [
    "sample_sub.Tag = pred\n",
    "sample_sub.to_csv('decisiontreedepth100.csv', index=False)"
   ]
  },
  {
   "cell_type": "code",
   "execution_count": null,
   "metadata": {},
   "outputs": [],
   "source": [
    "from sklearn.ensemble import RandomForestClassifier"
   ]
  },
  {
   "cell_type": "code",
   "execution_count": null,
   "metadata": {},
   "outputs": [],
   "source": [
    "forest=RandomForestClassifier(n_estimators=100,criterion='gini',max_depth=50)\n",
    "forest.fit(X,y)"
   ]
  },
  {
   "cell_type": "code",
   "execution_count": null,
   "metadata": {},
   "outputs": [],
   "source": [
    "pred1=forest.predict(X_test)"
   ]
  },
  {
   "cell_type": "code",
   "execution_count": null,
   "metadata": {},
   "outputs": [],
   "source": [
    "sample_sub.Tag = pred1\n",
    "sample_sub.to_csv('random forest1.csv', index=False)"
   ]
  }
 ],
 "metadata": {
  "kernelspec": {
   "display_name": "Python 3",
   "language": "python",
   "name": "python3"
  },
  "language_info": {
   "codemirror_mode": {
    "name": "ipython",
    "version": 3
   },
   "file_extension": ".py",
   "mimetype": "text/x-python",
   "name": "python",
   "nbconvert_exporter": "python",
   "pygments_lexer": "ipython3",
   "version": "3.6.4"
  }
 },
 "nbformat": 4,
 "nbformat_minor": 2
}
